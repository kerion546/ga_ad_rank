{
 "cells": [
  {
   "cell_type": "code",
   "execution_count": 1,
   "metadata": {
    "collapsed": true
   },
   "outputs": [],
   "source": [
    "%matplotlib inline\n",
    "from google2pandas import *\n",
    "import pandas as pd\n",
    "from pandas import Series, DataFrame\n",
    "import matplotlib.pyplot as plt"
   ]
  },
  {
   "cell_type": "code",
   "execution_count": 2,
   "metadata": {
    "collapsed": true
   },
   "outputs": [],
   "source": [
    "# API接続\n",
    "start_index = 1\n",
    "\n",
    "query = {\\\n",
    "    'ids'           : 'YOURVIEWID',\n",
    "    'metrics'       : 'ga:totalEvents',\n",
    "    'dimensions'    : ['ga:eventCategory', 'ga:eventAction', 'ga:eventLabel'],\n",
    "    'start_date'    : 'yyyy-mm-dd',\n",
    "    'end_date'      : 'yyyy-mm-dd',         \n",
    "    'start_index'   : start_index,\n",
    "    'max_results'   : 10000}\n",
    "\n",
    "conn = GoogleAnalyticsQuery(\n",
    "        token_file_name='my_analytics.dat',\n",
    "    secrets='client_secret.json')\n",
    "\n",
    "df, metadata = conn.execute_query(**query)"
   ]
  },
  {
   "cell_type": "code",
   "execution_count": 3,
   "metadata": {},
   "outputs": [
    {
     "data": {
      "text/html": [
       "<div>\n",
       "<style>\n",
       "    .dataframe thead tr:only-child th {\n",
       "        text-align: right;\n",
       "    }\n",
       "\n",
       "    .dataframe thead th {\n",
       "        text-align: left;\n",
       "    }\n",
       "\n",
       "    .dataframe tbody tr th {\n",
       "        vertical-align: top;\n",
       "    }\n",
       "</style>\n",
       "<table border=\"1\" class=\"dataframe\">\n",
       "  <thead>\n",
       "    <tr style=\"text-align: right;\">\n",
       "      <th></th>\n",
       "      <th>eventCategory</th>\n",
       "      <th>eventAction</th>\n",
       "      <th>eventLabel</th>\n",
       "      <th>totalEvents</th>\n",
       "    </tr>\n",
       "  </thead>\n",
       "  <tbody>\n",
       "    <tr>\n",
       "      <th>T1</th>\n",
       "      <td>Ad_Rank</td>\n",
       "      <td>view</td>\n",
       "      <td>T1</td>\n",
       "      <td>45803</td>\n",
       "    </tr>\n",
       "    <tr>\n",
       "      <th>T2</th>\n",
       "      <td>Ad_Rank</td>\n",
       "      <td>view</td>\n",
       "      <td>T2</td>\n",
       "      <td>972235</td>\n",
       "    </tr>\n",
       "    <tr>\n",
       "      <th>T3</th>\n",
       "      <td>Ad_Rank</td>\n",
       "      <td>view</td>\n",
       "      <td>T3</td>\n",
       "      <td>798452</td>\n",
       "    </tr>\n",
       "    <tr>\n",
       "      <th>T4</th>\n",
       "      <td>Ad_Rank</td>\n",
       "      <td>view</td>\n",
       "      <td>T4</td>\n",
       "      <td>734943</td>\n",
       "    </tr>\n",
       "  </tbody>\n",
       "</table>\n",
       "</div>"
      ],
      "text/plain": [
       "   eventCategory eventAction eventLabel  totalEvents\n",
       "T1       Ad_Rank        view         T1        45803\n",
       "T2       Ad_Rank        view         T2       972235\n",
       "T3       Ad_Rank        view         T3       798452\n",
       "T4       Ad_Rank        view         T4       734943"
      ]
     },
     "execution_count": 3,
     "metadata": {},
     "output_type": "execute_result"
    }
   ],
   "source": [
    "#本来は上記の通りGAから値を取得する・・・。サンプルデータをGAで作るのが面倒だったため。「sample_ga.csv」を用意した。\n",
    "df = pd.read_csv('sample_ga.csv')\n",
    "df = df.rename(index=df['eventLabel'])\n",
    "df"
   ]
  },
  {
   "cell_type": "code",
   "execution_count": 4,
   "metadata": {},
   "outputs": [
    {
     "data": {
      "text/html": [
       "<div>\n",
       "<style>\n",
       "    .dataframe thead tr:only-child th {\n",
       "        text-align: right;\n",
       "    }\n",
       "\n",
       "    .dataframe thead th {\n",
       "        text-align: left;\n",
       "    }\n",
       "\n",
       "    .dataframe tbody tr th {\n",
       "        vertical-align: top;\n",
       "    }\n",
       "</style>\n",
       "<table border=\"1\" class=\"dataframe\">\n",
       "  <thead>\n",
       "    <tr style=\"text-align: right;\">\n",
       "      <th></th>\n",
       "      <th>ad_price</th>\n",
       "      <th>ad_total</th>\n",
       "    </tr>\n",
       "  </thead>\n",
       "  <tbody>\n",
       "    <tr>\n",
       "      <th>T1</th>\n",
       "      <td>10000</td>\n",
       "      <td>3768</td>\n",
       "    </tr>\n",
       "    <tr>\n",
       "      <th>T2</th>\n",
       "      <td>20000</td>\n",
       "      <td>3155</td>\n",
       "    </tr>\n",
       "    <tr>\n",
       "      <th>T3</th>\n",
       "      <td>30000</td>\n",
       "      <td>2422</td>\n",
       "    </tr>\n",
       "    <tr>\n",
       "      <th>T4</th>\n",
       "      <td>40000</td>\n",
       "      <td>1398</td>\n",
       "    </tr>\n",
       "  </tbody>\n",
       "</table>\n",
       "</div>"
      ],
      "text/plain": [
       "   ad_price ad_total\n",
       "T1    10000     3768\n",
       "T2    20000     3155\n",
       "T3    30000     2422\n",
       "T4    40000     1398"
      ]
     },
     "execution_count": 4,
     "metadata": {},
     "output_type": "execute_result"
    }
   ],
   "source": [
    "# 広告ランクと価格と広告数\n",
    "ad_rank_and_price ={'T1':10000, 'T2':20000, 'T3':30000, 'T4':40000}\n",
    "ad_total = {'T1':3768, 'T2':3155, 'T3':2422, 'T4':1398}\n",
    "\n",
    "#値が入ってない空のデータフレーム作成\n",
    "df2 = pd.DataFrame(index=['T1','T2','T3','T4'], columns=['ad_price', 'ad_total'])\n",
    "\n",
    "#広告価格と広告数を代入\n",
    "for price in ad_rank_and_price.keys():\n",
    "    df2['ad_price'][price] = ad_rank_and_price[price]\n",
    "    \n",
    "for total in ad_total.keys():\n",
    "    df2['ad_total'][total] = ad_total[total]    \n",
    "\n",
    "df2    "
   ]
  },
  {
   "cell_type": "code",
   "execution_count": 5,
   "metadata": {},
   "outputs": [
    {
     "data": {
      "text/html": [
       "<div>\n",
       "<style>\n",
       "    .dataframe thead tr:only-child th {\n",
       "        text-align: right;\n",
       "    }\n",
       "\n",
       "    .dataframe thead th {\n",
       "        text-align: left;\n",
       "    }\n",
       "\n",
       "    .dataframe tbody tr th {\n",
       "        vertical-align: top;\n",
       "    }\n",
       "</style>\n",
       "<table border=\"1\" class=\"dataframe\">\n",
       "  <thead>\n",
       "    <tr style=\"text-align: right;\">\n",
       "      <th></th>\n",
       "      <th>eventCategory</th>\n",
       "      <th>eventAction</th>\n",
       "      <th>eventLabel</th>\n",
       "      <th>totalEvents</th>\n",
       "      <th>ad_price</th>\n",
       "      <th>ad_total</th>\n",
       "    </tr>\n",
       "  </thead>\n",
       "  <tbody>\n",
       "    <tr>\n",
       "      <th>T1</th>\n",
       "      <td>Ad_Rank</td>\n",
       "      <td>view</td>\n",
       "      <td>T1</td>\n",
       "      <td>45803</td>\n",
       "      <td>10000</td>\n",
       "      <td>3768</td>\n",
       "    </tr>\n",
       "    <tr>\n",
       "      <th>T2</th>\n",
       "      <td>Ad_Rank</td>\n",
       "      <td>view</td>\n",
       "      <td>T2</td>\n",
       "      <td>972235</td>\n",
       "      <td>20000</td>\n",
       "      <td>3155</td>\n",
       "    </tr>\n",
       "    <tr>\n",
       "      <th>T3</th>\n",
       "      <td>Ad_Rank</td>\n",
       "      <td>view</td>\n",
       "      <td>T3</td>\n",
       "      <td>798452</td>\n",
       "      <td>30000</td>\n",
       "      <td>2422</td>\n",
       "    </tr>\n",
       "    <tr>\n",
       "      <th>T4</th>\n",
       "      <td>Ad_Rank</td>\n",
       "      <td>view</td>\n",
       "      <td>T4</td>\n",
       "      <td>734943</td>\n",
       "      <td>40000</td>\n",
       "      <td>1398</td>\n",
       "    </tr>\n",
       "  </tbody>\n",
       "</table>\n",
       "</div>"
      ],
      "text/plain": [
       "   eventCategory eventAction eventLabel  totalEvents ad_price ad_total\n",
       "T1       Ad_Rank        view         T1        45803    10000     3768\n",
       "T2       Ad_Rank        view         T2       972235    20000     3155\n",
       "T3       Ad_Rank        view         T3       798452    30000     2422\n",
       "T4       Ad_Rank        view         T4       734943    40000     1398"
      ]
     },
     "execution_count": 5,
     "metadata": {},
     "output_type": "execute_result"
    }
   ],
   "source": [
    "#dfとdf2のマージ\n",
    "df3 = pd.merge(df, df2,left_index=True, right_index=True)\n",
    "df3"
   ]
  },
  {
   "cell_type": "code",
   "execution_count": 6,
   "metadata": {},
   "outputs": [],
   "source": [
    "df3['ad_earnings'] = df3['ad_price'] * df3['ad_total']\n",
    "df3['ad_value'] = df3['ad_earnings'] / df3['totalEvents']"
   ]
  },
  {
   "cell_type": "code",
   "execution_count": 7,
   "metadata": {},
   "outputs": [
    {
     "data": {
      "text/html": [
       "<div>\n",
       "<style>\n",
       "    .dataframe thead tr:only-child th {\n",
       "        text-align: right;\n",
       "    }\n",
       "\n",
       "    .dataframe thead th {\n",
       "        text-align: left;\n",
       "    }\n",
       "\n",
       "    .dataframe tbody tr th {\n",
       "        vertical-align: top;\n",
       "    }\n",
       "</style>\n",
       "<table border=\"1\" class=\"dataframe\">\n",
       "  <thead>\n",
       "    <tr style=\"text-align: right;\">\n",
       "      <th></th>\n",
       "      <th>eventCategory</th>\n",
       "      <th>eventAction</th>\n",
       "      <th>eventLabel</th>\n",
       "      <th>totalEvents</th>\n",
       "      <th>ad_price</th>\n",
       "      <th>ad_total</th>\n",
       "      <th>ad_earnings</th>\n",
       "      <th>ad_value</th>\n",
       "    </tr>\n",
       "  </thead>\n",
       "  <tbody>\n",
       "    <tr>\n",
       "      <th>T1</th>\n",
       "      <td>Ad_Rank</td>\n",
       "      <td>view</td>\n",
       "      <td>T1</td>\n",
       "      <td>45803</td>\n",
       "      <td>10000</td>\n",
       "      <td>3768</td>\n",
       "      <td>37680000</td>\n",
       "      <td>822.654</td>\n",
       "    </tr>\n",
       "    <tr>\n",
       "      <th>T2</th>\n",
       "      <td>Ad_Rank</td>\n",
       "      <td>view</td>\n",
       "      <td>T2</td>\n",
       "      <td>972235</td>\n",
       "      <td>20000</td>\n",
       "      <td>3155</td>\n",
       "      <td>63100000</td>\n",
       "      <td>64.902</td>\n",
       "    </tr>\n",
       "    <tr>\n",
       "      <th>T3</th>\n",
       "      <td>Ad_Rank</td>\n",
       "      <td>view</td>\n",
       "      <td>T3</td>\n",
       "      <td>798452</td>\n",
       "      <td>30000</td>\n",
       "      <td>2422</td>\n",
       "      <td>72660000</td>\n",
       "      <td>91.0011</td>\n",
       "    </tr>\n",
       "    <tr>\n",
       "      <th>T4</th>\n",
       "      <td>Ad_Rank</td>\n",
       "      <td>view</td>\n",
       "      <td>T4</td>\n",
       "      <td>734943</td>\n",
       "      <td>40000</td>\n",
       "      <td>1398</td>\n",
       "      <td>55920000</td>\n",
       "      <td>76.0875</td>\n",
       "    </tr>\n",
       "  </tbody>\n",
       "</table>\n",
       "</div>"
      ],
      "text/plain": [
       "   eventCategory eventAction eventLabel  totalEvents ad_price ad_total  \\\n",
       "T1       Ad_Rank        view         T1        45803    10000     3768   \n",
       "T2       Ad_Rank        view         T2       972235    20000     3155   \n",
       "T3       Ad_Rank        view         T3       798452    30000     2422   \n",
       "T4       Ad_Rank        view         T4       734943    40000     1398   \n",
       "\n",
       "   ad_earnings ad_value  \n",
       "T1    37680000  822.654  \n",
       "T2    63100000   64.902  \n",
       "T3    72660000  91.0011  \n",
       "T4    55920000  76.0875  "
      ]
     },
     "execution_count": 7,
     "metadata": {},
     "output_type": "execute_result"
    }
   ],
   "source": [
    "df3"
   ]
  },
  {
   "cell_type": "code",
   "execution_count": 16,
   "metadata": {},
   "outputs": [
    {
     "data": {
      "image/png": "[encoded data removed]",
      "text/plain": [
       "<matplotlib.figure.Figure at 0x115c61d68>"
      ]
     },
     "metadata": {},
     "output_type": "display_data"
    }
   ],
   "source": [
    "df3['ad_value'].plot(kind='bar')\n",
    "plt.show()"
   ]
  }
 ],
 "metadata": {
  "kernelspec": {
   "display_name": "Python 3",
   "language": "python",
   "name": "python3"
  },
  "language_info": {
   "codemirror_mode": {
    "name": "ipython",
    "version": 3
   },
   "file_extension": ".py",
   "mimetype": "text/x-python",
   "name": "python",
   "nbconvert_exporter": "python",
   "pygments_lexer": "ipython3",
   "version": "3.6.1"
  }
 },
 "nbformat": 4,
 "nbformat_minor": 2
}
